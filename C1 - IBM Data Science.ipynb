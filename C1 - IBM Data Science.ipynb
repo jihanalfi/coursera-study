{
 "cells": [
  {
   "cell_type": "markdown",
   "id": "ec6faaa2-26e1-4a09-a702-3c2ed15a6111",
   "metadata": {},
   "source": [
    "# Practicing IBM Data Science Course\n",
    "Lab: Exploring Data using IBM Cloud Gallery"
   ]
  },
  {
   "cell_type": "markdown",
   "id": "dc7df733-2d5a-4294-8ee0-f94636c242aa",
   "metadata": {},
   "source": [
    "## UCI: Forest fires\n",
    "```Cortez,Paulo and Morais,Anbal. (2008). Forest Fires. UCI Machine Learning Repository. https://doi.org/10.24432/C5D88D.```"
   ]
  },
  {
   "cell_type": "code",
   "execution_count": null,
   "id": "126c9f1d-2fbf-4b79-9f68-288418958da4",
   "metadata": {},
   "outputs": [],
   "source": []
  }
 ],
 "metadata": {
  "kernelspec": {
   "display_name": "Python 3 (ipykernel)",
   "language": "python",
   "name": "python3"
  },
  "language_info": {
   "codemirror_mode": {
    "name": "ipython",
    "version": 3
   },
   "file_extension": ".py",
   "mimetype": "text/x-python",
   "name": "python",
   "nbconvert_exporter": "python",
   "pygments_lexer": "ipython3",
   "version": "3.9.6"
  }
 },
 "nbformat": 4,
 "nbformat_minor": 5
}
